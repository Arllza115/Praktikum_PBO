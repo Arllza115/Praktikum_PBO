{
 "cells": [
  {
   "cell_type": "code",
   "execution_count": 7,
   "id": "14dacaab-85cb-4ecc-a27c-0f1e5e396091",
   "metadata": {},
   "outputs": [
    {
     "name": "stdout",
     "output_type": "stream",
     "text": [
      "+-------+----+----------+-------+---------+\n",
      "|   Nama|Usia| Pekerjaan|   Hobi|   Gender|\n",
      "+-------+----+----------+-------+---------+\n",
      "|    Ali|  31|      Free|Mancing|laki laki|\n",
      "|  Bento|  34|    Bandar| Ngelas|Laki laki|\n",
      "|Supijah|  19|Admin Slot|  Makan|Perempuan|\n",
      "+-------+----+----------+-------+---------+\n",
      "\n"
     ]
    }
   ],
   "source": [
    "from pyspark.sql import SparkSession\n",
    "\n",
    "spark = SparkSession.builder.appName(\"BigDataPractice\").getOrCreate()\n",
    "\n",
    "data = [(\"Ali\", \"31\", \"Free\", \"Mancing\", \"laki laki\"),\n",
    "       (\"Bento\", \"34\", \"Bandar\", \"Ngelas\", \"Laki laki\"),\n",
    "       (\"Supijah\", \"19\", \"Admin Slot\", \"Makan\", \"Perempuan\")]\n",
    "columns = [\"Nama\", \"Usia\",\"Pekerjaan\", \"Hobi\", \"Gender\"]\n",
    "df = spark.createDataFrame(data, columns)\n",
    "df.show()\n"
   ]
  },
  {
   "cell_type": "code",
   "execution_count": 8,
   "id": "203a6805-e9d9-49d5-b149-2ff9606201e1",
   "metadata": {},
   "outputs": [
    {
     "name": "stdout",
     "output_type": "stream",
     "text": [
      "+-----+----+---------+-------+---------+\n",
      "| Nama|Usia|Pekerjaan|   Hobi|   Gender|\n",
      "+-----+----+---------+-------+---------+\n",
      "|  Ali|  31|     Free|Mancing|laki laki|\n",
      "|Bento|  34|   Bandar| Ngelas|Laki laki|\n",
      "+-----+----+---------+-------+---------+\n",
      "\n"
     ]
    }
   ],
   "source": [
    "df_filtered = df.filter(df['Usia'] > 30)\n",
    "df_filtered.show()"
   ]
  },
  {
   "cell_type": "code",
   "execution_count": 9,
   "id": "53aad911-37c2-4b95-8c1b-0b90b4db99f3",
   "metadata": {},
   "outputs": [
    {
     "name": "stdout",
     "output_type": "stream",
     "text": [
      "+---------+\n",
      "|avg(Usia)|\n",
      "+---------+\n",
      "|     28.0|\n",
      "+---------+\n",
      "\n"
     ]
    }
   ],
   "source": [
    "from pyspark.sql.functions import avg\n",
    "df.groupBy().agg(avg(\"Usia\")).show()\n"
   ]
  },
  {
   "cell_type": "code",
   "execution_count": 10,
   "id": "3064e63c-cee9-4b8d-8803-96298dc3f0b1",
   "metadata": {},
   "outputs": [
    {
     "name": "stdout",
     "output_type": "stream",
     "text": [
      "+-------+----+----------+-------+---------+\n",
      "|   Nama|Usia| Pekerjaan|   Hobi|   Gender|\n",
      "+-------+----+----------+-------+---------+\n",
      "|  Bento|  34|    Bandar| Ngelas|Laki laki|\n",
      "|    Ali|  31|      Free|Mancing|laki laki|\n",
      "|Supijah|  19|Admin Slot|  Makan|Perempuan|\n",
      "+-------+----+----------+-------+---------+\n",
      "\n"
     ]
    }
   ],
   "source": [
    "df_sorted = df.orderBy(\"Usia\", ascending=False)\n",
    "df_sorted.show()\n"
   ]
  },
  {
   "cell_type": "code",
   "execution_count": 23,
   "id": "114a2fba-d2c2-47c0-9526-301f5b385df0",
   "metadata": {},
   "outputs": [
    {
     "data": {
      "text/html": [
       "<div>\n",
       "<style scoped>\n",
       "    .dataframe tbody tr th:only-of-type {\n",
       "        vertical-align: middle;\n",
       "    }\n",
       "\n",
       "    .dataframe tbody tr th {\n",
       "        vertical-align: top;\n",
       "    }\n",
       "\n",
       "    .dataframe thead th {\n",
       "        text-align: right;\n",
       "    }\n",
       "</style>\n",
       "<table border=\"1\" class=\"dataframe\">\n",
       "  <thead>\n",
       "    <tr style=\"text-align: right;\">\n",
       "      <th></th>\n",
       "      <th>Nama</th>\n",
       "      <th>Usia</th>\n",
       "    </tr>\n",
       "  </thead>\n",
       "  <tbody>\n",
       "    <tr>\n",
       "      <th>0</th>\n",
       "      <td>ALi</td>\n",
       "      <td>31</td>\n",
       "    </tr>\n",
       "    <tr>\n",
       "      <th>1</th>\n",
       "      <td>Bento</td>\n",
       "      <td>34</td>\n",
       "    </tr>\n",
       "    <tr>\n",
       "      <th>2</th>\n",
       "      <td>Supijah</td>\n",
       "      <td>19</td>\n",
       "    </tr>\n",
       "  </tbody>\n",
       "</table>\n",
       "</div>"
      ],
      "text/plain": [
       "      Nama  Usia\n",
       "0      ALi    31\n",
       "1    Bento    34\n",
       "2  Supijah    19"
      ]
     },
     "execution_count": 23,
     "metadata": {},
     "output_type": "execute_result"
    }
   ],
   "source": [
    "import pandas as pd\n",
    "\n",
    "data_pandas = {\"Nama\": [\"ALi\", \"Bento\", \"Supijah\"], \"Usia\": [31, 34, 19]}\n",
    "df_pandas = pd.DataFrame(data_pandas)\n",
    "df_pandas\n"
   ]
  },
  {
   "cell_type": "code",
   "execution_count": 25,
   "id": "eec48d10-f17a-4214-bd68-a5e51d4397f9",
   "metadata": {},
   "outputs": [
    {
     "name": "stdout",
     "output_type": "stream",
     "text": [
      "            Usia\n",
      "count   3.000000\n",
      "mean   28.000000\n",
      "std     7.937254\n",
      "min    19.000000\n",
      "25%    25.000000\n",
      "50%    31.000000\n",
      "75%    32.500000\n",
      "max    34.000000\n"
     ]
    }
   ],
   "source": [
    "print(df_pandas.describe())"
   ]
  },
  {
   "cell_type": "code",
   "execution_count": 27,
   "id": "4b014f88-54e8-4b67-b3e0-d212edcfa787",
   "metadata": {},
   "outputs": [
    {
     "data": {
      "text/html": [
       "<div>\n",
       "<style scoped>\n",
       "    .dataframe tbody tr th:only-of-type {\n",
       "        vertical-align: middle;\n",
       "    }\n",
       "\n",
       "    .dataframe tbody tr th {\n",
       "        vertical-align: top;\n",
       "    }\n",
       "\n",
       "    .dataframe thead th {\n",
       "        text-align: right;\n",
       "    }\n",
       "</style>\n",
       "<table border=\"1\" class=\"dataframe\">\n",
       "  <thead>\n",
       "    <tr style=\"text-align: right;\">\n",
       "      <th></th>\n",
       "      <th>Nama</th>\n",
       "      <th>Usia</th>\n",
       "      <th>Pekerjaan</th>\n",
       "    </tr>\n",
       "  </thead>\n",
       "  <tbody>\n",
       "    <tr>\n",
       "      <th>0</th>\n",
       "      <td>ALi</td>\n",
       "      <td>31</td>\n",
       "      <td>Bandar</td>\n",
       "    </tr>\n",
       "    <tr>\n",
       "      <th>1</th>\n",
       "      <td>Bento</td>\n",
       "      <td>34</td>\n",
       "      <td>Free</td>\n",
       "    </tr>\n",
       "    <tr>\n",
       "      <th>2</th>\n",
       "      <td>Supijah</td>\n",
       "      <td>19</td>\n",
       "      <td>Admin Slot</td>\n",
       "    </tr>\n",
       "  </tbody>\n",
       "</table>\n",
       "</div>"
      ],
      "text/plain": [
       "      Nama  Usia   Pekerjaan\n",
       "0      ALi    31      Bandar\n",
       "1    Bento    34        Free\n",
       "2  Supijah    19  Admin Slot"
      ]
     },
     "execution_count": 27,
     "metadata": {},
     "output_type": "execute_result"
    }
   ],
   "source": [
    "data_pandas_2 = {\"Nama\": [\"ALi\", \"Bento\", \"Supijah\"], \"Usia\": [31, 34, 19], \"Pekerjaan\":[\"Bandar\", \"Free\", \"Admin Slot\"]}\n",
    "df_pandas_2 = pd.DataFrame(data_pandas_2)\n",
    "df_pandas_2"
   ]
  },
  {
   "cell_type": "code",
   "execution_count": 29,
   "id": "b5e3808f-d5bf-4076-bf0e-88996501c202",
   "metadata": {},
   "outputs": [
    {
     "name": "stdout",
     "output_type": "stream",
     "text": [
      "      Nama  Usia_x  Usia_y   Pekerjaan\n",
      "0      ALi      31      31      Bandar\n",
      "1    Bento      34      34        Free\n",
      "2  Supijah      19      19  Admin Slot\n"
     ]
    }
   ],
   "source": [
    "df_joined = pd.merge(df_pandas, df_pandas_2, on=\"Nama\")\n",
    "print(df_joined)"
   ]
  },
  {
   "cell_type": "code",
   "execution_count": 45,
   "id": "aa16aeb8-cd85-4c44-ba42-8dc40019ec02",
   "metadata": {},
   "outputs": [
    {
     "ename": "TypeError",
     "evalue": "'DataFrame' object is not callable",
     "output_type": "error",
     "traceback": [
      "\u001b[1;31m---------------------------------------------------------------------------\u001b[0m",
      "\u001b[1;31mTypeError\u001b[0m                                 Traceback (most recent call last)",
      "Cell \u001b[1;32mIn[45], line 1\u001b[0m\n\u001b[1;32m----> 1\u001b[0m filtered_df \u001b[38;5;241m=\u001b[39m df_joined(\u001b[38;5;124m\"\u001b[39m\u001b[38;5;124mUsia > 30\u001b[39m\u001b[38;5;124m\"\u001b[39m)\n",
      "\u001b[1;31mTypeError\u001b[0m: 'DataFrame' object is not callable"
     ]
    }
   ],
   "source": [
    "filtered_df = df_joined(\"Usia > 30\")"
   ]
  },
  {
   "cell_type": "code",
   "execution_count": 44,
   "id": "ef270672-468d-43db-b1c4-e0777dadbbe5",
   "metadata": {},
   "outputs": [
    {
     "ename": "ModuleNotFoundError",
     "evalue": "No module named 'matplotlib'",
     "output_type": "error",
     "traceback": [
      "\u001b[1;31m---------------------------------------------------------------------------\u001b[0m",
      "\u001b[1;31mModuleNotFoundError\u001b[0m                       Traceback (most recent call last)",
      "Cell \u001b[1;32mIn[44], line 1\u001b[0m\n\u001b[1;32m----> 1\u001b[0m \u001b[38;5;28;01mimport\u001b[39;00m \u001b[38;5;21;01mmatplotlib\u001b[39;00m\u001b[38;5;21;01m.\u001b[39;00m\u001b[38;5;21;01mpyplot\u001b[39;00m \u001b[38;5;28;01mas\u001b[39;00m \u001b[38;5;21;01mplt\u001b[39;00m\n\u001b[0;32m      2\u001b[0m df_pandas[\u001b[38;5;124m'\u001b[39m\u001b[38;5;124mUsia\u001b[39m\u001b[38;5;124m'\u001b[39m]\u001b[38;5;241m.\u001b[39mplot(kind\u001b[38;5;241m=\u001b[39m\u001b[38;5;124m'\u001b[39m\u001b[38;5;124mbar\u001b[39m\u001b[38;5;124m'\u001b[39m)\n\u001b[0;32m      3\u001b[0m plt\u001b[38;5;241m.\u001b[39mshow()\n",
      "\u001b[1;31mModuleNotFoundError\u001b[0m: No module named 'matplotlib'"
     ]
    }
   ],
   "source": [
    "import matplotlib.pyplot as plt\n",
    "df_pandas['Usia'].plot(kind='bar')\n",
    "plt.show()\n"
   ]
  },
  {
   "cell_type": "code",
   "execution_count": null,
   "id": "2bda5a94-0365-4efb-8687-18c7c5781177",
   "metadata": {},
   "outputs": [],
   "source": []
  },
  {
   "cell_type": "code",
   "execution_count": null,
   "id": "d74d63a6-955c-442d-b4e3-8dffdfe54155",
   "metadata": {},
   "outputs": [],
   "source": []
  }
 ],
 "metadata": {
  "kernelspec": {
   "display_name": "Python 3 (ipykernel)",
   "language": "python",
   "name": "python3"
  },
  "language_info": {
   "codemirror_mode": {
    "name": "ipython",
    "version": 3
   },
   "file_extension": ".py",
   "mimetype": "text/x-python",
   "name": "python",
   "nbconvert_exporter": "python",
   "pygments_lexer": "ipython3",
   "version": "3.11.9"
  }
 },
 "nbformat": 4,
 "nbformat_minor": 5
}
